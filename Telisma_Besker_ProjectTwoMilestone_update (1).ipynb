{
 "cells": [
  {
   "cell_type": "markdown",
   "metadata": {},
   "source": [
    "# Treasure Hunt Game Notebook\n",
    "\n",
    "## Read and Review Your Starter Code\n",
    "The theme of this project is a popular treasure hunt game in which the player needs to find the treasure before the pirate does. While you will not be developing the entire game, you will write the part of the game that represents the intelligent agent, which is a pirate in this case. The pirate will try to find the optimal path to the treasure using deep Q-learning. \n",
    "\n",
    "You have been provided with two Python classes and this notebook to help you with this assignment. The first class, TreasureMaze.py, represents the environment, which includes a maze object defined as a matrix. The second class, GameExperience.py, stores the episodes – that is, all the states that come in between the initial state and the terminal state. This is later used by the agent for learning by experience, called \"exploration\". This notebook shows how to play a game. Your task is to complete the deep Q-learning implementation for which a skeleton implementation has been provided. The code blocks you will need to complete has #TODO as a header.\n",
    "\n",
    "First, read and review the next few code and instruction blocks to understand the code that you have been given."
   ]
  },
  {
   "cell_type": "code",
   "execution_count": 20,
   "metadata": {},
   "outputs": [],
   "source": [
    "from __future__ import print_function\n",
    "import os, sys, time, datetime, json, random\n",
    "import numpy as np\n",
    "from keras.models import Sequential\n",
    "from keras.layers.core import Dense, Activation\n",
    "from keras.optimizers import SGD , Adam, RMSprop\n",
    "from keras.layers.advanced_activations import PReLU\n",
    "import matplotlib.pyplot as plt\n",
    "from TreasureMaze import TreasureMaze\n",
    "from GameExperience import GameExperience\n",
    "%matplotlib inline"
   ]
  },
  {
   "cell_type": "markdown",
   "metadata": {},
   "source": [
    "The following code block contains an 8x8 matrix that will be used as a maze object:"
   ]
  },
  {
   "cell_type": "code",
   "execution_count": 21,
   "metadata": {},
   "outputs": [],
   "source": [
    "maze = np.array([\n",
    "    [ 1.,  0.,  1.,  1.,  1.,  1.,  1.,  1.],\n",
    "    [ 1.,  0.,  1.,  1.,  1.,  0.,  1.,  1.],\n",
    "    [ 1.,  1.,  1.,  1.,  0.,  1.,  0.,  1.],\n",
    "    [ 1.,  1.,  1.,  0.,  1.,  1.,  1.,  1.],\n",
    "    [ 1.,  1.,  0.,  1.,  1.,  1.,  1.,  1.],\n",
    "    [ 1.,  1.,  1.,  0.,  1.,  0.,  0.,  0.],\n",
    "    [ 1.,  1.,  1.,  0.,  1.,  1.,  1.,  1.],\n",
    "    [ 1.,  1.,  1.,  1.,  0.,  1.,  1.,  1.]\n",
    "])"
   ]
  },
  {
   "cell_type": "markdown",
   "metadata": {},
   "source": [
    "This helper function allows a visual representation of the maze object:"
   ]
  },
  {
   "cell_type": "code",
   "execution_count": 22,
   "metadata": {},
   "outputs": [],
   "source": [
    "def show(qmaze):\n",
    "    plt.grid('on')\n",
    "    nrows, ncols = qmaze.maze.shape\n",
    "    ax = plt.gca()\n",
    "    ax.set_xticks(np.arange(0.5, nrows, 1))\n",
    "    ax.set_yticks(np.arange(0.5, ncols, 1))\n",
    "    ax.set_xticklabels([])\n",
    "    ax.set_yticklabels([])\n",
    "    canvas = np.copy(qmaze.maze)\n",
    "    for row,col in qmaze.visited:\n",
    "        canvas[row,col] = 0.6\n",
    "    pirate_row, pirate_col, _ = qmaze.state\n",
    "    canvas[pirate_row, pirate_col] = 0.3   # pirate cell\n",
    "    canvas[nrows-1, ncols-1] = 0.9 # treasure cell\n",
    "    img = plt.imshow(canvas, interpolation='none', cmap='gray')\n",
    "    return img"
   ]
  },
  {
   "cell_type": "markdown",
   "metadata": {},
   "source": [
    "The pirate agent can move in four directions: left, right, up, and down. \n",
    "\n",
    "While the agent primarily learns by experience through exploitation, often, the agent can choose to explore the environment to find previously undiscovered paths. This is called \"exploration\" and is defined by epsilon. This value is typically a lower value such as 0.1, which means for every ten attempts, the agent will attempt to learn by experience nine times and will randomly explore a new path one time. You are encouraged to try various values for the exploration factor and see how the algorithm performs."
   ]
  },
  {
   "cell_type": "code",
   "execution_count": 23,
   "metadata": {},
   "outputs": [],
   "source": [
    "LEFT = 0\n",
    "UP = 1\n",
    "RIGHT = 2\n",
    "DOWN = 3\n",
    "\n",
    "\n",
    "# Exploration factor\n",
    "epsilon = 0.1\n",
    "\n",
    "# Actions dictionary\n",
    "actions_dict = {\n",
    "    LEFT: 'left',\n",
    "    UP: 'up',\n",
    "    RIGHT: 'right',\n",
    "    DOWN: 'down',\n",
    "}\n",
    "\n",
    "num_actions = len(actions_dict)\n"
   ]
  },
  {
   "cell_type": "markdown",
   "metadata": {},
   "source": [
    "The sample code block and output below show creating a maze object and performing one action (DOWN), which returns the reward. The resulting updated environment is visualized."
   ]
  },
  {
   "cell_type": "code",
   "execution_count": 24,
   "metadata": {},
   "outputs": [
    {
     "name": "stdout",
     "output_type": "stream",
     "text": [
      "reward= -0.04\n"
     ]
    },
    {
     "data": {
      "text/plain": [
       "<matplotlib.image.AxesImage at 0x2ae69d3e688>"
      ]
     },
     "execution_count": 24,
     "metadata": {},
     "output_type": "execute_result"
    },
    {
     "data": {
      "image/png": "[encoded data removed]",
      "text/plain": [
       "<Figure size 432x288 with 1 Axes>"
      ]
     },
     "metadata": {
      "needs_background": "light"
     },
     "output_type": "display_data"
    }
   ],
   "source": [
    "qmaze = TreasureMaze(maze)\n",
    "canvas, reward, game_over = qmaze.act(DOWN)\n",
    "print(\"reward=\", reward)\n",
    "show(qmaze)"
   ]
  },
  {
   "cell_type": "markdown",
   "metadata": {},
   "source": [
    "This function simulates a full game based on the provided trained model. The other parameters include the TreasureMaze object and the starting position of the pirate."
   ]
  },
  {
   "cell_type": "code",
   "execution_count": 25,
   "metadata": {},
   "outputs": [],
   "source": [
    "def play_game(model, qmaze, pirate_cell):\n",
    "    qmaze.reset(pirate_cell)\n",
    "    envstate = qmaze.observe()\n",
    "    while True:\n",
    "        prev_envstate = envstate\n",
    "        # get next action\n",
    "        q = model.predict(prev_envstate)\n",
    "        action = np.argmax(q[0])\n",
    "\n",
    "        # apply action, get rewards and new state\n",
    "        envstate, reward, game_status = qmaze.act(action)\n",
    "        if game_status == 'win':\n",
    "            return True\n",
    "        elif game_status == 'lose':\n",
    "            return False"
   ]
  },
  {
   "cell_type": "markdown",
   "metadata": {},
   "source": [
    "This function helps you to determine whether the pirate can win any game at all. If your maze is not well designed, the pirate may not win any game at all. In this case, your training would not yield any result. The provided maze in this notebook ensures that there is a path to win and you can run this method to check."
   ]
  },
  {
   "cell_type": "code",
   "execution_count": 26,
   "metadata": {},
   "outputs": [],
   "source": [
    "def completion_check(model, qmaze):\n",
    "    for cell in qmaze.free_cells:\n",
    "        if not qmaze.valid_actions(cell):\n",
    "            return False\n",
    "        if not play_game(model, qmaze, cell):\n",
    "            return False\n",
    "    return True"
   ]
  },
  {
   "cell_type": "markdown",
   "metadata": {},
   "source": [
    "The code you have been given in this block will build the neural network model. Review the code and note the number of layers, as well as the activation, optimizer, and loss functions that are used to train the model."
   ]
  },
  {
   "cell_type": "code",
   "execution_count": 27,
   "metadata": {},
   "outputs": [],
   "source": [
    "def build_model(maze):\n",
    "    model = Sequential()\n",
    "    model.add(Dense(maze.size, input_shape=(maze.size,)))\n",
    "    model.add(PReLU())\n",
    "    model.add(Dense(maze.size))\n",
    "    model.add(PReLU())\n",
    "    model.add(Dense(num_actions))\n",
    "    model.compile(optimizer='adam', loss='mse')\n",
    "    return model"
   ]
  },
  {
   "cell_type": "markdown",
   "metadata": {},
   "source": [
    "# #TODO: Complete the Q-Training Algorithm Code Block\n",
    "\n",
    "This is your deep Q-learning implementation. The goal of your deep Q-learning implementation is to find the best possible navigation sequence that results in reaching the treasure cell while maximizing the reward. In your implementation, you need to determine the optimal number of epochs to achieve a 100% win rate.\n",
    "\n",
    "You will need to complete the section starting with #pseudocode. The pseudocode has been included for you."
   ]
  },
  {
   "cell_type": "code",
   "execution_count": 34,
   "metadata": {},
   "outputs": [],
   "source": [
    "def qtrain(model, maze, **opt):\n",
    "\n",
    "    # exploration factor\n",
    "    global epsilon \n",
    "\n",
    "    # number of epochs\n",
    "    n_epoch = opt.get('n_epoch', 15000)\n",
    "\n",
    "    # maximum memory to store episodes\n",
    "    max_memory = opt.get('max_memory', 1000)\n",
    "\n",
    "    # maximum data size for training\n",
    "    data_size = opt.get('data_size', 50)\n",
    "\n",
    "    # start time\n",
    "    start_time = datetime.datetime.now()\n",
    "\n",
    "    # Construct environment/game from numpy array: maze (see above)\n",
    "    qmaze = TreasureMaze(maze)\n",
    "\n",
    "    # Initialize experience replay object\n",
    "    experience = GameExperience(model, max_memory=max_memory)\n",
    "    \n",
    "    win_history = []   # history of win/lose game\n",
    "    hsize = qmaze.maze.size//2   # history window size\n",
    "    win_rate = 0.0\n",
    "    \n",
    "    # pseudocode:\n",
    "    # For each epoch:\n",
    "    #    Agent_cell = randomly select a free cell\n",
    "    #    Reset the maze with agent set to above position\n",
    "    #    Hint: Review the reset method in the TreasureMaze.py class.\n",
    "    #    envstate = Environment.current_state\n",
    "    #    Hint: Review the observe method in the TreasureMaze.py class.\n",
    "    #    While state is not game over:\n",
    "    #        previous_envstate = envstate\n",
    "    #        Action = randomly choose action (left, right, up, down) either by exploration or by exploitation\n",
    "    #        envstate, reward, game_status = qmaze.act(action)\n",
    "    #    Hint: Review the act method in the TreasureMaze.py class.\n",
    "    #        episode = [previous_envstate, action, reward, envstate, game_status]\n",
    "    #        Store episode in Experience replay object\n",
    "    #    Hint: Review the remember method in the GameExperience.py class.\n",
    "    #        Train neural network model and evaluate loss\n",
    "    #    Hint: Call GameExperience.get_data to retrieve training data (input and target) and pass to model.fit method \n",
    "    #          to train the model. You can call model.evaluate to determine loss.\n",
    "    #    If the win rate is above the threshold and your model passes the completion check, that would be your epoch.\n",
    "    \n",
    "    \n",
    "    for epoch in range(n_epoch):\n",
    "        loss = 0.0\n",
    "        n_episodes = 0\n",
    "        \n",
    "        # Randomly select a starting position for the pirate\n",
    "        free_cells = qmaze.free_cells  # Assuming this attribute provides a list of free cells\n",
    "        start_position = random.choice(free_cells)\n",
    "        qmaze.reset(pirate=start_position)\n",
    "        envstate = qmaze.observe()\n",
    "\n",
    "        while qmaze.game_status() == 'not_over':\n",
    "            prev_envstate = envstate\n",
    "\n",
    "            # Choose action using epsilon-greedy policy\n",
    "            if np.random.rand() < epsilon:\n",
    "                action = np.random.choice(qmaze.valid_actions())\n",
    "            else:\n",
    "                q_values = model.predict(prev_envstate)[0]\n",
    "                action = np.argmax(q_values)\n",
    "\n",
    "            # Apply action, get reward and new envstate\n",
    "            envstate, reward, game_status = qmaze.act(action)\n",
    "\n",
    "            # Store episode in experience replay\n",
    "            episode = [prev_envstate, action, reward, envstate, game_status]\n",
    "            experience.remember(episode)\n",
    "\n",
    "            # Train neural network model\n",
    "            inputs, targets = experience.get_data(data_size)\n",
    "            loss += model.train_on_batch(inputs, targets)\n",
    "\n",
    "            n_episodes += 1\n",
    "\n",
    "        # Collect win/lose history\n",
    "        if game_status == 'win':\n",
    "            win_history.append(1)\n",
    "        else:\n",
    "            win_history.append(0)\n",
    "\n",
    "        if len(win_history) > hsize:\n",
    "            win_history = win_history[-hsize:]\n",
    "        \n",
    "        win_rate = sum(win_history) / len(win_history)\n",
    "    \n",
    "\n",
    "    #Print the epoch, loss, episodes, win count, and win rate for each epoch\n",
    "        dt = datetime.datetime.now() - start_time\n",
    "        t = format_time(dt.total_seconds())\n",
    "        template = \"Epoch: {:03d}/{:d} | Loss: {:.4f} | Episodes: {:d} | Win count: {:d} | Win rate: {:.3f} | time: {}\"\n",
    "        print(template.format(epoch, n_epoch-1, loss, n_episodes, sum(win_history), win_rate, t))\n",
    "        # We simply check if training has exhausted all free cells and if in all\n",
    "        # cases the agent won.\n",
    "        if win_rate > 0.9 : epsilon = 0.05\n",
    "        if sum(win_history[-hsize:]) == hsize and completion_check(model, qmaze):\n",
    "            print(\"Reached 100%% win rate at epoch: %d\" % (epoch,))\n",
    "            break\n",
    "    \n",
    "    \n",
    "    # Determine the total time for training\n",
    "    dt = datetime.datetime.now() - start_time\n",
    "    seconds = dt.total_seconds()\n",
    "    t = format_time(seconds)\n",
    "\n",
    "    print(\"n_epoch: %d, max_mem: %d, data: %d, time: %s\" % (epoch, max_memory, data_size, t))\n",
    "    return seconds\n",
    "\n",
    "# This is a small utility for printing readable time strings:\n",
    "def format_time(seconds):\n",
    "    if seconds < 400:\n",
    "        s = float(seconds)\n",
    "        return \"%.1f seconds\" % (s,)\n",
    "    elif seconds < 4000:\n",
    "        m = seconds / 60.0\n",
    "        return \"%.2f minutes\" % (m,)\n",
    "    else:\n",
    "        h = seconds / 3600.0\n",
    "        return \"%.2f hours\" % (h,)"
   ]
  },
  {
   "cell_type": "markdown",
   "metadata": {},
   "source": [
    "## Test Your Model\n",
    "\n",
    "Now we will start testing the deep Q-learning implementation. To begin, select **Cell**, then **Run All** from the menu bar. This will run your notebook. As it runs, you should see output begin to appear beneath the next few cells. The code below creates an instance of TreasureMaze."
   ]
  },
  {
   "cell_type": "code",
   "execution_count": 35,
   "metadata": {
    "scrolled": true
   },
   "outputs": [
    {
     "data": {
      "text/plain": [
       "<matplotlib.image.AxesImage at 0x2ae69ee0488>"
      ]
     },
     "execution_count": 35,
     "metadata": {},
     "output_type": "execute_result"
    },
    {
     "data": {
      "image/png": "[encoded data removed]",
      "text/plain": [
       "<Figure size 432x288 with 1 Axes>"
      ]
     },
     "metadata": {
      "needs_background": "light"
     },
     "output_type": "display_data"
    }
   ],
   "source": [
    "qmaze = TreasureMaze(maze)\n",
    "show(qmaze)"
   ]
  },
  {
   "cell_type": "markdown",
   "metadata": {},
   "source": [
    "In the next code block, you will build your model and train it using deep Q-learning. Note: This step takes several minutes to fully run."
   ]
  },
  {
   "cell_type": "code",
   "execution_count": 36,
   "metadata": {},
   "outputs": [
    {
     "name": "stdout",
     "output_type": "stream",
     "text": [
      "Epoch: 000/14999 | Loss: 0.5827 | Episodes: 23 | Win count: 1 | Win rate: 1.000 | time: 2.4 seconds\n",
      "Epoch: 001/14999 | Loss: 0.4068 | Episodes: 38 | Win count: 2 | Win rate: 1.000 | time: 9.1 seconds\n",
      "Epoch: 002/14999 | Loss: 0.9439 | Episodes: 132 | Win count: 2 | Win rate: 0.667 | time: 38.5 seconds\n",
      "Epoch: 003/14999 | Loss: 0.4778 | Episodes: 133 | Win count: 2 | Win rate: 0.500 | time: 67.7 seconds\n",
      "Epoch: 004/14999 | Loss: 0.3566 | Episodes: 136 | Win count: 2 | Win rate: 0.400 | time: 97.0 seconds\n",
      "Epoch: 005/14999 | Loss: 0.2492 | Episodes: 136 | Win count: 2 | Win rate: 0.333 | time: 126.9 seconds\n",
      "Epoch: 006/14999 | Loss: 0.0842 | Episodes: 139 | Win count: 2 | Win rate: 0.286 | time: 158.9 seconds\n",
      "Epoch: 007/14999 | Loss: 0.1445 | Episodes: 146 | Win count: 2 | Win rate: 0.250 | time: 190.4 seconds\n",
      "Epoch: 008/14999 | Loss: 0.1522 | Episodes: 136 | Win count: 2 | Win rate: 0.222 | time: 219.3 seconds\n",
      "Epoch: 009/14999 | Loss: 0.1426 | Episodes: 134 | Win count: 2 | Win rate: 0.200 | time: 247.2 seconds\n",
      "Epoch: 010/14999 | Loss: 0.0038 | Episodes: 2 | Win count: 3 | Win rate: 0.273 | time: 247.6 seconds\n",
      "Epoch: 011/14999 | Loss: 0.2698 | Episodes: 143 | Win count: 3 | Win rate: 0.250 | time: 277.9 seconds\n",
      "Epoch: 012/14999 | Loss: 0.2810 | Episodes: 143 | Win count: 3 | Win rate: 0.231 | time: 310.2 seconds\n",
      "Epoch: 013/14999 | Loss: 0.2461 | Episodes: 152 | Win count: 3 | Win rate: 0.214 | time: 345.0 seconds\n",
      "Epoch: 014/14999 | Loss: 0.1379 | Episodes: 104 | Win count: 4 | Win rate: 0.267 | time: 369.5 seconds\n",
      "Epoch: 015/14999 | Loss: 0.1738 | Episodes: 95 | Win count: 5 | Win rate: 0.312 | time: 391.1 seconds\n",
      "Epoch: 016/14999 | Loss: 0.0242 | Episodes: 10 | Win count: 6 | Win rate: 0.353 | time: 393.5 seconds\n",
      "Epoch: 017/14999 | Loss: 0.1183 | Episodes: 39 | Win count: 7 | Win rate: 0.389 | time: 6.71 minutes\n",
      "Epoch: 018/14999 | Loss: 0.5406 | Episodes: 139 | Win count: 7 | Win rate: 0.368 | time: 7.24 minutes\n",
      "Epoch: 019/14999 | Loss: 0.5891 | Episodes: 141 | Win count: 7 | Win rate: 0.350 | time: 7.79 minutes\n",
      "Epoch: 020/14999 | Loss: 0.1918 | Episodes: 59 | Win count: 8 | Win rate: 0.381 | time: 8.01 minutes\n",
      "Epoch: 021/14999 | Loss: 0.1403 | Episodes: 33 | Win count: 9 | Win rate: 0.409 | time: 8.13 minutes\n",
      "Epoch: 022/14999 | Loss: 0.4653 | Episodes: 136 | Win count: 9 | Win rate: 0.391 | time: 8.67 minutes\n",
      "Epoch: 023/14999 | Loss: 0.0018 | Episodes: 1 | Win count: 10 | Win rate: 0.417 | time: 8.68 minutes\n",
      "Epoch: 024/14999 | Loss: 0.2189 | Episodes: 134 | Win count: 10 | Win rate: 0.400 | time: 9.17 minutes\n",
      "Epoch: 025/14999 | Loss: 0.2716 | Episodes: 136 | Win count: 10 | Win rate: 0.385 | time: 9.70 minutes\n",
      "Epoch: 026/14999 | Loss: 0.2087 | Episodes: 138 | Win count: 10 | Win rate: 0.370 | time: 10.23 minutes\n",
      "Epoch: 027/14999 | Loss: 0.0273 | Episodes: 26 | Win count: 11 | Win rate: 0.393 | time: 10.33 minutes\n",
      "Epoch: 028/14999 | Loss: 0.0130 | Episodes: 7 | Win count: 12 | Win rate: 0.414 | time: 10.36 minutes\n",
      "Epoch: 029/14999 | Loss: 0.2339 | Episodes: 143 | Win count: 12 | Win rate: 0.400 | time: 10.90 minutes\n",
      "Epoch: 030/14999 | Loss: 0.2078 | Episodes: 139 | Win count: 12 | Win rate: 0.387 | time: 11.45 minutes\n",
      "Epoch: 031/14999 | Loss: 0.1689 | Episodes: 138 | Win count: 12 | Win rate: 0.375 | time: 11.98 minutes\n",
      "Epoch: 032/14999 | Loss: 0.0185 | Episodes: 21 | Win count: 12 | Win rate: 0.375 | time: 12.06 minutes\n",
      "Epoch: 033/14999 | Loss: 0.0276 | Episodes: 27 | Win count: 12 | Win rate: 0.375 | time: 12.16 minutes\n",
      "Epoch: 034/14999 | Loss: 0.0190 | Episodes: 17 | Win count: 13 | Win rate: 0.406 | time: 12.22 minutes\n",
      "Epoch: 035/14999 | Loss: 0.1964 | Episodes: 146 | Win count: 13 | Win rate: 0.406 | time: 12.78 minutes\n",
      "Epoch: 036/14999 | Loss: 0.0018 | Episodes: 2 | Win count: 14 | Win rate: 0.438 | time: 12.78 minutes\n",
      "Epoch: 037/14999 | Loss: 0.0109 | Episodes: 10 | Win count: 15 | Win rate: 0.469 | time: 12.82 minutes\n",
      "Epoch: 038/14999 | Loss: 0.0010 | Episodes: 1 | Win count: 16 | Win rate: 0.500 | time: 12.83 minutes\n",
      "Epoch: 039/14999 | Loss: 0.0144 | Episodes: 12 | Win count: 17 | Win rate: 0.531 | time: 12.87 minutes\n",
      "Epoch: 040/14999 | Loss: 0.0087 | Episodes: 7 | Win count: 18 | Win rate: 0.562 | time: 12.89 minutes\n",
      "Epoch: 041/14999 | Loss: 0.1860 | Episodes: 144 | Win count: 18 | Win rate: 0.562 | time: 13.47 minutes\n",
      "Epoch: 042/14999 | Loss: 0.1582 | Episodes: 140 | Win count: 17 | Win rate: 0.531 | time: 14.03 minutes\n",
      "Epoch: 043/14999 | Loss: 0.0198 | Episodes: 16 | Win count: 18 | Win rate: 0.562 | time: 14.10 minutes\n",
      "Epoch: 044/14999 | Loss: 0.1593 | Episodes: 144 | Win count: 18 | Win rate: 0.562 | time: 14.65 minutes\n",
      "Epoch: 045/14999 | Loss: 0.1488 | Episodes: 139 | Win count: 18 | Win rate: 0.562 | time: 15.17 minutes\n",
      "Epoch: 046/14999 | Loss: 0.1278 | Episodes: 138 | Win count: 17 | Win rate: 0.531 | time: 15.71 minutes\n",
      "Epoch: 047/14999 | Loss: 0.0024 | Episodes: 3 | Win count: 17 | Win rate: 0.531 | time: 15.72 minutes\n",
      "Epoch: 048/14999 | Loss: 0.0017 | Episodes: 2 | Win count: 17 | Win rate: 0.531 | time: 15.73 minutes\n",
      "Epoch: 049/14999 | Loss: 0.0072 | Episodes: 9 | Win count: 17 | Win rate: 0.531 | time: 15.77 minutes\n",
      "Epoch: 050/14999 | Loss: 0.0132 | Episodes: 14 | Win count: 18 | Win rate: 0.562 | time: 15.82 minutes\n",
      "Epoch: 051/14999 | Loss: 0.1494 | Episodes: 145 | Win count: 18 | Win rate: 0.562 | time: 16.36 minutes\n",
      "Epoch: 052/14999 | Loss: 0.1539 | Episodes: 147 | Win count: 17 | Win rate: 0.531 | time: 16.90 minutes\n",
      "Epoch: 053/14999 | Loss: 0.0146 | Episodes: 14 | Win count: 17 | Win rate: 0.531 | time: 16.95 minutes\n",
      "Epoch: 054/14999 | Loss: 0.1934 | Episodes: 143 | Win count: 17 | Win rate: 0.531 | time: 17.48 minutes\n",
      "Epoch: 055/14999 | Loss: 0.0125 | Episodes: 9 | Win count: 17 | Win rate: 0.531 | time: 17.51 minutes\n",
      "Epoch: 056/14999 | Loss: 0.0022 | Episodes: 2 | Win count: 18 | Win rate: 0.562 | time: 17.52 minutes\n",
      "Epoch: 057/14999 | Loss: 0.0057 | Episodes: 5 | Win count: 19 | Win rate: 0.594 | time: 17.54 minutes\n",
      "Epoch: 058/14999 | Loss: 0.2471 | Episodes: 145 | Win count: 19 | Win rate: 0.594 | time: 18.09 minutes\n",
      "Epoch: 059/14999 | Loss: 0.2196 | Episodes: 145 | Win count: 18 | Win rate: 0.562 | time: 18.62 minutes\n",
      "Epoch: 060/14999 | Loss: 0.2095 | Episodes: 144 | Win count: 17 | Win rate: 0.531 | time: 19.14 minutes\n",
      "Epoch: 061/14999 | Loss: 0.1780 | Episodes: 142 | Win count: 17 | Win rate: 0.531 | time: 19.67 minutes\n",
      "Epoch: 062/14999 | Loss: 0.0124 | Episodes: 11 | Win count: 18 | Win rate: 0.562 | time: 19.71 minutes\n",
      "Epoch: 063/14999 | Loss: 0.0147 | Episodes: 13 | Win count: 19 | Win rate: 0.594 | time: 19.76 minutes\n",
      "Epoch: 064/14999 | Loss: 0.0109 | Episodes: 11 | Win count: 19 | Win rate: 0.594 | time: 19.80 minutes\n",
      "Epoch: 065/14999 | Loss: 0.0096 | Episodes: 9 | Win count: 19 | Win rate: 0.594 | time: 19.82 minutes\n",
      "Epoch: 066/14999 | Loss: 0.1554 | Episodes: 141 | Win count: 18 | Win rate: 0.562 | time: 20.31 minutes\n",
      "Epoch: 067/14999 | Loss: 0.0007 | Episodes: 1 | Win count: 19 | Win rate: 0.594 | time: 20.32 minutes\n",
      "Epoch: 068/14999 | Loss: 0.0204 | Episodes: 20 | Win count: 19 | Win rate: 0.594 | time: 20.39 minutes\n",
      "Epoch: 069/14999 | Loss: 0.1561 | Episodes: 142 | Win count: 18 | Win rate: 0.562 | time: 20.92 minutes\n",
      "Epoch: 070/14999 | Loss: 0.1309 | Episodes: 141 | Win count: 17 | Win rate: 0.531 | time: 21.45 minutes\n",
      "Epoch: 071/14999 | Loss: 0.1265 | Episodes: 138 | Win count: 16 | Win rate: 0.500 | time: 21.97 minutes\n",
      "Epoch: 072/14999 | Loss: 0.1383 | Episodes: 144 | Win count: 15 | Win rate: 0.469 | time: 22.52 minutes\n",
      "Epoch: 073/14999 | Loss: 0.1431 | Episodes: 143 | Win count: 15 | Win rate: 0.469 | time: 23.05 minutes\n",
      "Epoch: 074/14999 | Loss: 0.0098 | Episodes: 11 | Win count: 16 | Win rate: 0.500 | time: 23.10 minutes\n",
      "Epoch: 075/14999 | Loss: 0.1817 | Episodes: 144 | Win count: 15 | Win rate: 0.469 | time: 23.60 minutes\n",
      "Epoch: 076/14999 | Loss: 0.0259 | Episodes: 19 | Win count: 16 | Win rate: 0.500 | time: 23.67 minutes\n",
      "Epoch: 077/14999 | Loss: 0.1663 | Episodes: 79 | Win count: 17 | Win rate: 0.531 | time: 23.91 minutes\n",
      "Epoch: 078/14999 | Loss: 0.2251 | Episodes: 144 | Win count: 17 | Win rate: 0.531 | time: 24.45 minutes\n",
      "Epoch: 079/14999 | Loss: 0.0095 | Episodes: 7 | Win count: 17 | Win rate: 0.531 | time: 24.47 minutes\n",
      "Epoch: 080/14999 | Loss: 0.0013 | Episodes: 1 | Win count: 17 | Win rate: 0.531 | time: 24.48 minutes\n"
     ]
    },
    {
     "name": "stdout",
     "output_type": "stream",
     "text": [
      "Epoch: 081/14999 | Loss: 0.0167 | Episodes: 10 | Win count: 17 | Win rate: 0.531 | time: 24.52 minutes\n",
      "Epoch: 082/14999 | Loss: 0.2289 | Episodes: 144 | Win count: 16 | Win rate: 0.500 | time: 25.06 minutes\n",
      "Epoch: 083/14999 | Loss: 0.1887 | Episodes: 141 | Win count: 16 | Win rate: 0.500 | time: 25.59 minutes\n",
      "Epoch: 084/14999 | Loss: 0.1663 | Episodes: 139 | Win count: 16 | Win rate: 0.500 | time: 26.09 minutes\n",
      "Epoch: 085/14999 | Loss: 0.0009 | Episodes: 1 | Win count: 16 | Win rate: 0.500 | time: 26.09 minutes\n",
      "Epoch: 086/14999 | Loss: 0.1271 | Episodes: 129 | Win count: 17 | Win rate: 0.531 | time: 26.53 minutes\n",
      "Epoch: 087/14999 | Loss: 0.1790 | Episodes: 143 | Win count: 16 | Win rate: 0.500 | time: 27.06 minutes\n",
      "Epoch: 088/14999 | Loss: 0.0083 | Episodes: 7 | Win count: 16 | Win rate: 0.500 | time: 27.09 minutes\n",
      "Epoch: 089/14999 | Loss: 0.1826 | Episodes: 147 | Win count: 15 | Win rate: 0.469 | time: 27.65 minutes\n",
      "Epoch: 090/14999 | Loss: 0.0412 | Episodes: 31 | Win count: 16 | Win rate: 0.500 | time: 27.77 minutes\n",
      "Epoch: 091/14999 | Loss: 0.1126 | Episodes: 75 | Win count: 17 | Win rate: 0.531 | time: 28.02 minutes\n",
      "Epoch: 092/14999 | Loss: 0.2052 | Episodes: 148 | Win count: 17 | Win rate: 0.531 | time: 28.53 minutes\n",
      "Epoch: 093/14999 | Loss: 0.2070 | Episodes: 150 | Win count: 17 | Win rate: 0.531 | time: 29.06 minutes\n",
      "Epoch: 094/14999 | Loss: 0.0264 | Episodes: 18 | Win count: 17 | Win rate: 0.531 | time: 29.12 minutes\n",
      "Epoch: 095/14999 | Loss: 0.0139 | Episodes: 10 | Win count: 17 | Win rate: 0.531 | time: 29.16 minutes\n",
      "Epoch: 096/14999 | Loss: 0.2204 | Episodes: 144 | Win count: 16 | Win rate: 0.500 | time: 29.69 minutes\n",
      "Epoch: 097/14999 | Loss: 0.0245 | Episodes: 17 | Win count: 16 | Win rate: 0.500 | time: 29.76 minutes\n",
      "Epoch: 098/14999 | Loss: 0.0178 | Episodes: 12 | Win count: 17 | Win rate: 0.531 | time: 29.79 minutes\n",
      "Epoch: 099/14999 | Loss: 0.0106 | Episodes: 6 | Win count: 17 | Win rate: 0.531 | time: 29.81 minutes\n",
      "Epoch: 100/14999 | Loss: 0.0042 | Episodes: 3 | Win count: 17 | Win rate: 0.531 | time: 29.82 minutes\n",
      "Epoch: 101/14999 | Loss: 0.0121 | Episodes: 9 | Win count: 18 | Win rate: 0.562 | time: 29.85 minutes\n",
      "Epoch: 102/14999 | Loss: 0.0801 | Episodes: 57 | Win count: 19 | Win rate: 0.594 | time: 30.06 minutes\n",
      "Epoch: 103/14999 | Loss: 0.0199 | Episodes: 12 | Win count: 20 | Win rate: 0.625 | time: 30.11 minutes\n",
      "Epoch: 104/14999 | Loss: 0.2167 | Episodes: 144 | Win count: 20 | Win rate: 0.625 | time: 30.63 minutes\n",
      "Epoch: 105/14999 | Loss: 0.0520 | Episodes: 36 | Win count: 21 | Win rate: 0.656 | time: 30.75 minutes\n",
      "Epoch: 106/14999 | Loss: 0.0133 | Episodes: 8 | Win count: 21 | Win rate: 0.656 | time: 30.78 minutes\n",
      "Epoch: 107/14999 | Loss: 0.1405 | Episodes: 87 | Win count: 22 | Win rate: 0.688 | time: 31.11 minutes\n",
      "Epoch: 108/14999 | Loss: 0.0207 | Episodes: 14 | Win count: 22 | Win rate: 0.688 | time: 31.16 minutes\n",
      "Epoch: 109/14999 | Loss: 0.0283 | Episodes: 18 | Win count: 22 | Win rate: 0.688 | time: 31.24 minutes\n",
      "Epoch: 110/14999 | Loss: 0.2261 | Episodes: 142 | Win count: 22 | Win rate: 0.688 | time: 31.76 minutes\n",
      "Epoch: 111/14999 | Loss: 0.0061 | Episodes: 5 | Win count: 22 | Win rate: 0.688 | time: 31.77 minutes\n",
      "Epoch: 112/14999 | Loss: 0.1894 | Episodes: 143 | Win count: 21 | Win rate: 0.656 | time: 32.31 minutes\n",
      "Epoch: 113/14999 | Loss: 0.1067 | Episodes: 73 | Win count: 21 | Win rate: 0.656 | time: 32.60 minutes\n",
      "Epoch: 114/14999 | Loss: 0.1743 | Episodes: 139 | Win count: 21 | Win rate: 0.656 | time: 33.10 minutes\n",
      "Epoch: 115/14999 | Loss: 0.0182 | Episodes: 17 | Win count: 22 | Win rate: 0.688 | time: 33.15 minutes\n",
      "Epoch: 116/14999 | Loss: 0.0073 | Episodes: 7 | Win count: 23 | Win rate: 0.719 | time: 33.18 minutes\n",
      "Epoch: 117/14999 | Loss: 0.0020 | Episodes: 2 | Win count: 23 | Win rate: 0.719 | time: 33.19 minutes\n",
      "Epoch: 118/14999 | Loss: 0.1173 | Episodes: 107 | Win count: 23 | Win rate: 0.719 | time: 33.56 minutes\n",
      "Epoch: 119/14999 | Loss: 0.1954 | Episodes: 121 | Win count: 24 | Win rate: 0.750 | time: 34.00 minutes\n",
      "Epoch: 120/14999 | Loss: 0.0276 | Episodes: 19 | Win count: 24 | Win rate: 0.750 | time: 34.07 minutes\n",
      "Epoch: 121/14999 | Loss: 0.0076 | Episodes: 5 | Win count: 25 | Win rate: 0.781 | time: 34.09 minutes\n",
      "Epoch: 122/14999 | Loss: 0.0054 | Episodes: 4 | Win count: 25 | Win rate: 0.781 | time: 34.10 minutes\n",
      "Epoch: 123/14999 | Loss: 0.0198 | Episodes: 15 | Win count: 25 | Win rate: 0.781 | time: 34.15 minutes\n",
      "Epoch: 124/14999 | Loss: 0.0166 | Episodes: 10 | Win count: 26 | Win rate: 0.812 | time: 34.19 minutes\n",
      "Epoch: 125/14999 | Loss: 0.0098 | Episodes: 8 | Win count: 27 | Win rate: 0.844 | time: 34.22 minutes\n",
      "Epoch: 126/14999 | Loss: 0.0296 | Episodes: 22 | Win count: 27 | Win rate: 0.844 | time: 34.30 minutes\n",
      "Epoch: 127/14999 | Loss: 0.0526 | Episodes: 41 | Win count: 27 | Win rate: 0.844 | time: 34.44 minutes\n",
      "Epoch: 128/14999 | Loss: 0.0190 | Episodes: 17 | Win count: 28 | Win rate: 0.875 | time: 34.51 minutes\n",
      "Epoch: 129/14999 | Loss: 0.0082 | Episodes: 7 | Win count: 28 | Win rate: 0.875 | time: 34.54 minutes\n",
      "Epoch: 130/14999 | Loss: 0.1710 | Episodes: 127 | Win count: 28 | Win rate: 0.875 | time: 35.01 minutes\n",
      "Epoch: 131/14999 | Loss: 0.0112 | Episodes: 9 | Win count: 28 | Win rate: 0.875 | time: 35.05 minutes\n",
      "Epoch: 132/14999 | Loss: 0.0092 | Episodes: 8 | Win count: 28 | Win rate: 0.875 | time: 35.08 minutes\n",
      "Epoch: 133/14999 | Loss: 0.0158 | Episodes: 11 | Win count: 28 | Win rate: 0.875 | time: 35.11 minutes\n",
      "Epoch: 134/14999 | Loss: 0.1357 | Episodes: 81 | Win count: 28 | Win rate: 0.875 | time: 35.43 minutes\n",
      "Epoch: 135/14999 | Loss: 0.0463 | Episodes: 33 | Win count: 28 | Win rate: 0.875 | time: 35.56 minutes\n",
      "Epoch: 136/14999 | Loss: 0.0169 | Episodes: 12 | Win count: 29 | Win rate: 0.906 | time: 35.60 minutes\n",
      "Epoch: 137/14999 | Loss: 0.0169 | Episodes: 14 | Win count: 29 | Win rate: 0.906 | time: 35.65 minutes\n",
      "Epoch: 138/14999 | Loss: 0.0718 | Episodes: 56 | Win count: 29 | Win rate: 0.906 | time: 35.87 minutes\n",
      "Epoch: 139/14999 | Loss: 0.0222 | Episodes: 17 | Win count: 29 | Win rate: 0.906 | time: 35.93 minutes\n",
      "Epoch: 140/14999 | Loss: 0.0082 | Episodes: 6 | Win count: 29 | Win rate: 0.906 | time: 35.95 minutes\n",
      "Epoch: 141/14999 | Loss: 0.0022 | Episodes: 2 | Win count: 29 | Win rate: 0.906 | time: 35.96 minutes\n",
      "Epoch: 142/14999 | Loss: 0.0028 | Episodes: 2 | Win count: 30 | Win rate: 0.938 | time: 35.96 minutes\n",
      "Epoch: 143/14999 | Loss: 0.1034 | Episodes: 69 | Win count: 30 | Win rate: 0.938 | time: 36.21 minutes\n",
      "Epoch: 144/14999 | Loss: 0.0284 | Episodes: 15 | Win count: 31 | Win rate: 0.969 | time: 36.27 minutes\n",
      "Epoch: 145/14999 | Loss: 0.0183 | Episodes: 13 | Win count: 31 | Win rate: 0.969 | time: 36.31 minutes\n",
      "Epoch: 146/14999 | Loss: 0.0156 | Episodes: 11 | Win count: 32 | Win rate: 1.000 | time: 36.35 minutes\n",
      "Epoch: 147/14999 | Loss: 0.0993 | Episodes: 65 | Win count: 32 | Win rate: 1.000 | time: 36.59 minutes\n",
      "Epoch: 148/14999 | Loss: 0.0030 | Episodes: 2 | Win count: 32 | Win rate: 1.000 | time: 36.60 minutes\n",
      "Epoch: 149/14999 | Loss: 0.0812 | Episodes: 57 | Win count: 32 | Win rate: 1.000 | time: 36.82 minutes\n",
      "Epoch: 150/14999 | Loss: 0.0582 | Episodes: 38 | Win count: 32 | Win rate: 1.000 | time: 36.98 minutes\n",
      "Epoch: 151/14999 | Loss: 0.0271 | Episodes: 18 | Win count: 32 | Win rate: 1.000 | time: 37.05 minutes\n",
      "Epoch: 152/14999 | Loss: 0.0832 | Episodes: 49 | Win count: 32 | Win rate: 1.000 | time: 37.23 minutes\n",
      "Epoch: 153/14999 | Loss: 0.0708 | Episodes: 51 | Win count: 32 | Win rate: 1.000 | time: 37.42 minutes\n",
      "Epoch: 154/14999 | Loss: 0.0488 | Episodes: 35 | Win count: 32 | Win rate: 1.000 | time: 37.56 minutes\n",
      "Epoch: 155/14999 | Loss: 0.0392 | Episodes: 27 | Win count: 32 | Win rate: 1.000 | time: 37.67 minutes\n",
      "Epoch: 156/14999 | Loss: 0.0318 | Episodes: 24 | Win count: 32 | Win rate: 1.000 | time: 37.75 minutes\n",
      "Epoch: 157/14999 | Loss: 0.0141 | Episodes: 9 | Win count: 32 | Win rate: 1.000 | time: 37.79 minutes\n",
      "Epoch: 158/14999 | Loss: 0.0545 | Episodes: 42 | Win count: 32 | Win rate: 1.000 | time: 37.95 minutes\n",
      "Epoch: 159/14999 | Loss: 0.0491 | Episodes: 39 | Win count: 32 | Win rate: 1.000 | time: 38.12 minutes\n",
      "Epoch: 160/14999 | Loss: 0.0257 | Episodes: 19 | Win count: 32 | Win rate: 1.000 | time: 38.20 minutes\n"
     ]
    },
    {
     "name": "stdout",
     "output_type": "stream",
     "text": [
      "Epoch: 161/14999 | Loss: 0.0445 | Episodes: 34 | Win count: 32 | Win rate: 1.000 | time: 38.34 minutes\n",
      "Epoch: 162/14999 | Loss: 0.0203 | Episodes: 17 | Win count: 32 | Win rate: 1.000 | time: 38.42 minutes\n",
      "Epoch: 163/14999 | Loss: 0.0180 | Episodes: 14 | Win count: 32 | Win rate: 1.000 | time: 38.48 minutes\n",
      "Epoch: 164/14999 | Loss: 0.0579 | Episodes: 40 | Win count: 32 | Win rate: 1.000 | time: 38.66 minutes\n",
      "Epoch: 165/14999 | Loss: 0.0329 | Episodes: 25 | Win count: 32 | Win rate: 1.000 | time: 38.77 minutes\n",
      "Epoch: 166/14999 | Loss: 0.0234 | Episodes: 16 | Win count: 32 | Win rate: 1.000 | time: 38.83 minutes\n",
      "Epoch: 167/14999 | Loss: 0.0123 | Episodes: 10 | Win count: 32 | Win rate: 1.000 | time: 38.88 minutes\n",
      "Epoch: 168/14999 | Loss: 0.0229 | Episodes: 17 | Win count: 32 | Win rate: 1.000 | time: 38.94 minutes\n",
      "Epoch: 169/14999 | Loss: 0.0124 | Episodes: 11 | Win count: 32 | Win rate: 1.000 | time: 38.98 minutes\n",
      "Epoch: 170/14999 | Loss: 0.0464 | Episodes: 37 | Win count: 32 | Win rate: 1.000 | time: 39.12 minutes\n",
      "Epoch: 171/14999 | Loss: 0.0081 | Episodes: 7 | Win count: 32 | Win rate: 1.000 | time: 39.15 minutes\n",
      "Epoch: 172/14999 | Loss: 0.0156 | Episodes: 15 | Win count: 32 | Win rate: 1.000 | time: 39.20 minutes\n",
      "Epoch: 173/14999 | Loss: 0.0223 | Episodes: 16 | Win count: 32 | Win rate: 1.000 | time: 39.26 minutes\n",
      "Epoch: 174/14999 | Loss: 0.0338 | Episodes: 31 | Win count: 32 | Win rate: 1.000 | time: 39.37 minutes\n",
      "Epoch: 175/14999 | Loss: 0.0042 | Episodes: 5 | Win count: 32 | Win rate: 1.000 | time: 39.39 minutes\n",
      "Epoch: 176/14999 | Loss: 0.0228 | Episodes: 27 | Win count: 32 | Win rate: 1.000 | time: 39.48 minutes\n",
      "Epoch: 177/14999 | Loss: 0.0195 | Episodes: 24 | Win count: 32 | Win rate: 1.000 | time: 39.55 minutes\n",
      "Epoch: 178/14999 | Loss: 0.0188 | Episodes: 20 | Win count: 32 | Win rate: 1.000 | time: 39.63 minutes\n",
      "Epoch: 179/14999 | Loss: 0.0141 | Episodes: 18 | Win count: 32 | Win rate: 1.000 | time: 39.69 minutes\n",
      "Epoch: 180/14999 | Loss: 0.0042 | Episodes: 6 | Win count: 32 | Win rate: 1.000 | time: 39.71 minutes\n",
      "Epoch: 181/14999 | Loss: 0.0091 | Episodes: 12 | Win count: 32 | Win rate: 1.000 | time: 39.77 minutes\n",
      "Epoch: 182/14999 | Loss: 0.0326 | Episodes: 43 | Win count: 32 | Win rate: 1.000 | time: 39.93 minutes\n",
      "Epoch: 183/14999 | Loss: 0.0169 | Episodes: 22 | Win count: 32 | Win rate: 1.000 | time: 40.01 minutes\n",
      "Epoch: 184/14999 | Loss: 0.0057 | Episodes: 6 | Win count: 32 | Win rate: 1.000 | time: 40.04 minutes\n",
      "Epoch: 185/14999 | Loss: 0.0158 | Episodes: 25 | Win count: 32 | Win rate: 1.000 | time: 40.15 minutes\n",
      "Epoch: 186/14999 | Loss: 0.0104 | Episodes: 15 | Win count: 32 | Win rate: 1.000 | time: 40.20 minutes\n",
      "Epoch: 187/14999 | Loss: 0.0215 | Episodes: 27 | Win count: 32 | Win rate: 1.000 | time: 40.30 minutes\n",
      "Epoch: 188/14999 | Loss: 0.0112 | Episodes: 15 | Win count: 32 | Win rate: 1.000 | time: 40.36 minutes\n",
      "Epoch: 189/14999 | Loss: 0.0364 | Episodes: 48 | Win count: 32 | Win rate: 1.000 | time: 40.54 minutes\n",
      "Epoch: 190/14999 | Loss: 0.0204 | Episodes: 36 | Win count: 32 | Win rate: 1.000 | time: 40.68 minutes\n",
      "Epoch: 191/14999 | Loss: 0.0055 | Episodes: 11 | Win count: 32 | Win rate: 1.000 | time: 40.72 minutes\n",
      "Epoch: 192/14999 | Loss: 0.0040 | Episodes: 9 | Win count: 32 | Win rate: 1.000 | time: 40.76 minutes\n",
      "Epoch: 193/14999 | Loss: 0.0017 | Episodes: 3 | Win count: 32 | Win rate: 1.000 | time: 40.77 minutes\n",
      "Epoch: 194/14999 | Loss: 0.0093 | Episodes: 17 | Win count: 32 | Win rate: 1.000 | time: 40.84 minutes\n",
      "Epoch: 195/14999 | Loss: 0.0087 | Episodes: 18 | Win count: 32 | Win rate: 1.000 | time: 40.90 minutes\n",
      "Epoch: 196/14999 | Loss: 0.0072 | Episodes: 13 | Win count: 32 | Win rate: 1.000 | time: 40.95 minutes\n",
      "Epoch: 197/14999 | Loss: 0.0089 | Episodes: 21 | Win count: 32 | Win rate: 1.000 | time: 41.04 minutes\n",
      "Epoch: 198/14999 | Loss: 0.0084 | Episodes: 18 | Win count: 32 | Win rate: 1.000 | time: 41.11 minutes\n",
      "Epoch: 199/14999 | Loss: 0.0116 | Episodes: 26 | Win count: 32 | Win rate: 1.000 | time: 41.21 minutes\n",
      "Epoch: 200/14999 | Loss: 0.0113 | Episodes: 29 | Win count: 32 | Win rate: 1.000 | time: 41.32 minutes\n",
      "Epoch: 201/14999 | Loss: 0.0214 | Episodes: 55 | Win count: 32 | Win rate: 1.000 | time: 41.53 minutes\n",
      "Epoch: 202/14999 | Loss: 0.0025 | Episodes: 6 | Win count: 32 | Win rate: 1.000 | time: 41.55 minutes\n",
      "Epoch: 203/14999 | Loss: 0.0077 | Episodes: 18 | Win count: 32 | Win rate: 1.000 | time: 41.62 minutes\n",
      "Epoch: 204/14999 | Loss: 0.0036 | Episodes: 12 | Win count: 32 | Win rate: 1.000 | time: 41.67 minutes\n",
      "Epoch: 205/14999 | Loss: 0.0049 | Episodes: 13 | Win count: 32 | Win rate: 1.000 | time: 41.71 minutes\n",
      "Epoch: 206/14999 | Loss: 0.0024 | Episodes: 8 | Win count: 32 | Win rate: 1.000 | time: 41.74 minutes\n",
      "Reached 100% win rate at epoch: 206\n",
      "n_epoch: 206, max_mem: 512, data: 32, time: 41.75 minutes\n"
     ]
    },
    {
     "data": {
      "text/plain": [
       "2505.070072"
      ]
     },
     "execution_count": 36,
     "metadata": {},
     "output_type": "execute_result"
    }
   ],
   "source": [
    "model = build_model(maze)\n",
    "qtrain(model, maze, epochs=1000, max_memory=8*maze.size, data_size=32)"
   ]
  },
  {
   "cell_type": "markdown",
   "metadata": {},
   "source": [
    "This cell will check to see if the model passes the completion check. Note: This could take several minutes."
   ]
  },
  {
   "cell_type": "code",
   "execution_count": 37,
   "metadata": {},
   "outputs": [
    {
     "data": {
      "text/plain": [
       "<matplotlib.image.AxesImage at 0x2ae715b36c8>"
      ]
     },
     "execution_count": 37,
     "metadata": {},
     "output_type": "execute_result"
    },
    {
     "data": {
      "image/png": "[encoded data removed]",
      "text/plain": [
       "<Figure size 432x288 with 1 Axes>"
      ]
     },
     "metadata": {
      "needs_background": "light"
     },
     "output_type": "display_data"
    }
   ],
   "source": [
    "completion_check(model, qmaze)\n",
    "show(qmaze)"
   ]
  },
  {
   "cell_type": "markdown",
   "metadata": {},
   "source": [
    "This cell will test your model for one game. It will start the pirate at the top-left corner and run play_game. The agent should find a path from the starting position to the target (treasure). The treasure is located in the bottom-right corner."
   ]
  },
  {
   "cell_type": "code",
   "execution_count": 38,
   "metadata": {
    "scrolled": true
   },
   "outputs": [
    {
     "data": {
      "text/plain": [
       "<matplotlib.image.AxesImage at 0x2ae719df3c8>"
      ]
     },
     "execution_count": 38,
     "metadata": {},
     "output_type": "execute_result"
    },
    {
     "data": {
      "image/png": "[encoded data removed]",
      "text/plain": [
       "<Figure size 432x288 with 1 Axes>"
      ]
     },
     "metadata": {
      "needs_background": "light"
     },
     "output_type": "display_data"
    }
   ],
   "source": [
    "pirate_start = (0, 0)\n",
    "play_game(model, qmaze, pirate_start)\n",
    "show(qmaze)"
   ]
  },
  {
   "cell_type": "markdown",
   "metadata": {},
   "source": [
    "## Save and Submit Your Work\n",
    "After you have finished creating the code for your notebook, save your work. Make sure that your notebook contains your name in the filename (e.g. Doe_Jane_ProjectTwo.ipynb). This will help your instructor access and grade your work easily. Download a copy of your IPYNB file and submit it to Brightspace. Refer to the Jupyter Notebook in Apporto Tutorial if you need help with these tasks."
   ]
  }
 ],
 "metadata": {
  "kernelspec": {
   "display_name": "Python 3",
   "language": "python",
   "name": "python3"
  },
  "language_info": {
   "codemirror_mode": {
    "name": "ipython",
    "version": 3
   },
   "file_extension": ".py",
   "mimetype": "text/x-python",
   "name": "python",
   "nbconvert_exporter": "python",
   "pygments_lexer": "ipython3",
   "version": "3.7.4"
  }
 },
 "nbformat": 4,
 "nbformat_minor": 2
}
